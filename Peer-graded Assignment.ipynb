{
    "cells": [
        {
            "metadata": {
                "collapsed": true
            },
            "cell_type": "markdown",
            "source": "# Peer-graded Assignment"
        },
        {
            "metadata": {},
            "cell_type": "markdown",
            "source": "*This notebook was made for the needs of the Week 4 final project of the Tools for Data Science course*"
        },
        {
            "metadata": {},
            "cell_type": "markdown",
            "source": "### Data Science Languages"
        },
        {
            "metadata": {},
            "cell_type": "markdown",
            "source": "<ul>\n  <li>Python</li>\n  <li>R</li>\n  <li>SQL</li>\n  <li>Scala</li>\n  <li>Java</li>\n  <li>C++</li>\n  <li>Julia</li>\n  <li>JS</li>\n  <li>PHP</li>\n  <li>Golang</li>\n  <li>Ruby</li>\n  <li>Visual Basic</li>\n</ul>"
        },
        {
            "metadata": {},
            "cell_type": "markdown",
            "source": "### Data Science Libraries"
        },
        {
            "metadata": {},
            "cell_type": "markdown",
            "source": "<ul>\n  <li>Pandas</li>\n  <li>Numpy</li>\n  <li>Matplotlib</li>\n  <li>Seaborn</li>\n  <li>Scikit-Learn</li>\n  <li>Keras</li>\n  <li>Tensorflow</li>\n  <li>Pytorch</li>\n  <li>Apache Spark</li>\n  <li>Vegas</li>\n  <li>Big DL</li>\n  <li>GGplot2</li>\n</ul>"
        },
        {
            "metadata": {},
            "cell_type": "markdown",
            "source": "### Data Science Tools"
        },
        {
            "metadata": {},
            "cell_type": "markdown",
            "source": "<table align=\"left\">\n  <tr>\n    <th>Data Management</th>\n    <th>Data Integration and Transformation</th>\n    <th>Data Visualization</th>\n    <th>Model Deployment</th>\n    <th>Model Monitoring and Assessment</th> \n    <th>Code Asset Management</th>\n    <th>Data Asset Management</th>\n    <th>Development Environments</th>\n    <th>Execution Environments</th>\n    <th>Fully Integrated Visual Tools</th>\n  </tr>\n  <tr>\n    <td>MySQL</td>\n    <td>Apache AirFlow</td>\n    <td>Hue</td>\n    <td>Apache PredictionIO</td>\n    <td>ModelIDB</td>\n    <td>Git</td>\n    <td>Apache Atlas</td>\n    <td>Jupyter</td>\n    <td>Apache Spark</td>\n    <td>KNIME</td>\n  </tr>\n  <tr>\n    <td>PostgreSQL</td>\n    <td>KubeFlow</td>\n    <td>Kibana</td>\n    <td>Seldon</td>\n    <td>Prometheus</td>\n    <td>GitHub</td>\n    <td>ODPi Egeria</td>\n    <td>JupyterLab</td>\n    <td>Apache Flink</td>\n    <td>Orange</td>\n  </tr>\n  <tr>\n    <td>MongoDB</td>\n    <td>Apache Kafka</td>\n    <td>Apache Superset</td>\n    <td>MLeap</td>\n    <td>IBM AI Fairness 360</td>\n    <td>GitLab</td>\n    <td>Kylo</td>\n    <td>Apache Zeppelin</td>\n    <td>Ray</td>\n    <td></td>\n  </tr>\n  <tr>\n    <td>Apache CouchDB</td>\n    <td>Apache Nifi</td>\n    <td></td>\n    <td>TensorFlow Service</td>\n    <td>IBM Adversarial Robustness 360 Toolbox</td>\n    <td>Bitbucket</td>\n    <td></td>\n    <td>RStudio</td>\n    <td></td>\n    <td></td>\n  </tr>\n  <tr>\n    <td>Apache Cassandra</td>\n    <td>Apache Spark SQL</td>\n    <td></td>\n    <td>TensorFlow Lite</td>\n    <td>IBM AI Explainability 360</td>\n    <td></td>\n    <td></td>\n    <td>Spyder</td>\n    <td></td>\n    <td></td>\n  </tr>\n    <td>Hadoop File System</td>\n    <td>NodeRed</td>\n    <td></td>\n    <td>TensorFlow JS</td>\n    <td></td>\n    <td></td>\n    <td></td>\n    <td></td>\n    <td></td>\n    <td></td>\n  <tr>\n    <td>Ceph</td>\n    <td></td>\n    <td></td>\n    <td></td>\n    <td></td>\n    <td></td>\n    <td></td>\n    <td></td>\n    <td></td>\n    <td></td>\n  </tr>\n  <tr>\n    <td>Elasticsearch</td>\n    <td></td>\n    <td></td>\n    <td></td>\n    <td></td>\n    <td></td>\n    <td></td>\n    <td></td>\n    <td></td>\n    <td></td>\n  </tr>\n</table>"
        },
        {
            "metadata": {},
            "cell_type": "markdown",
            "source": "### Arithmetic Expression Examples"
        },
        {
            "metadata": {},
            "cell_type": "code",
            "source": "# Addition\nprint(1+1)",
            "execution_count": 7,
            "outputs": [
                {
                    "output_type": "stream",
                    "text": "2\n",
                    "name": "stdout"
                }
            ]
        },
        {
            "metadata": {},
            "cell_type": "code",
            "source": "# Subtraction\nprint(10-5)",
            "execution_count": 8,
            "outputs": [
                {
                    "output_type": "stream",
                    "text": "5\n",
                    "name": "stdout"
                }
            ]
        },
        {
            "metadata": {},
            "cell_type": "code",
            "source": "# Multiplication\nprint(10*5)",
            "execution_count": 9,
            "outputs": [
                {
                    "output_type": "stream",
                    "text": "50\n",
                    "name": "stdout"
                }
            ]
        },
        {
            "metadata": {},
            "cell_type": "code",
            "source": "# Division\nprint(40/5)",
            "execution_count": 12,
            "outputs": [
                {
                    "output_type": "stream",
                    "text": "8.0\n",
                    "name": "stdout"
                }
            ]
        },
        {
            "metadata": {},
            "cell_type": "code",
            "source": "# Quotient\nprint(9//2)",
            "execution_count": 11,
            "outputs": [
                {
                    "output_type": "stream",
                    "text": "4\n",
                    "name": "stdout"
                }
            ]
        },
        {
            "metadata": {},
            "cell_type": "code",
            "source": "# Remainder\nprint(9%2)",
            "execution_count": 13,
            "outputs": [
                {
                    "output_type": "stream",
                    "text": "1\n",
                    "name": "stdout"
                }
            ]
        },
        {
            "metadata": {},
            "cell_type": "code",
            "source": "# Exponent\nprint(2**3)",
            "execution_count": 15,
            "outputs": [
                {
                    "output_type": "stream",
                    "text": "8\n",
                    "name": "stdout"
                }
            ]
        },
        {
            "metadata": {},
            "cell_type": "markdown",
            "source": "### Multiply and Add Numbers"
        },
        {
            "metadata": {},
            "cell_type": "code",
            "source": "# Multiply\nprint(12*12)",
            "execution_count": 6,
            "outputs": [
                {
                    "output_type": "stream",
                    "text": "144\n",
                    "name": "stdout"
                }
            ]
        },
        {
            "metadata": {},
            "cell_type": "code",
            "source": "# Addition\nprint(10+10)",
            "execution_count": 5,
            "outputs": [
                {
                    "output_type": "stream",
                    "text": "20\n",
                    "name": "stdout"
                }
            ]
        },
        {
            "metadata": {},
            "cell_type": "markdown",
            "source": "### Convert minutes to hours"
        },
        {
            "metadata": {},
            "cell_type": "code",
            "source": "def mintohou(x):\n    print(x, 'minutes =', int(x/60), 'Hours')\n\nmintohou(120)",
            "execution_count": 21,
            "outputs": [
                {
                    "output_type": "stream",
                    "text": "120 minutes = 2 Hours\n",
                    "name": "stdout"
                }
            ]
        },
        {
            "metadata": {},
            "cell_type": "markdown",
            "source": "### Objectives"
        },
        {
            "metadata": {},
            "cell_type": "code",
            "source": "<ul>\n  <li>Notebook</li>\n  <li>R</li>\n  <li>SQL</li>\n</ul>",
            "execution_count": 19,
            "outputs": [
                {
                    "output_type": "stream",
                    "text": "Hello\n",
                    "name": "stdout"
                }
            ]
        },
        {
            "metadata": {},
            "cell_type": "markdown",
            "source": "### Author\u2019s name"
        },
        {
            "metadata": {},
            "cell_type": "markdown",
            "source": "*Muhammad Fadhil*"
        }
    ],
    "metadata": {
        "kernelspec": {
            "name": "python3",
            "display_name": "Python 3.10",
            "language": "python"
        },
        "language_info": {
            "name": "python",
            "version": "3.10.6",
            "mimetype": "text/x-python",
            "codemirror_mode": {
                "name": "ipython",
                "version": 3
            },
            "pygments_lexer": "ipython3",
            "nbconvert_exporter": "python",
            "file_extension": ".py"
        }
    },
    "nbformat": 4,
    "nbformat_minor": 1
}
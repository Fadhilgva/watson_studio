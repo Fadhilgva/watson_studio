{
    "cells": [
        {
            "metadata": {
                "collapsed": true
            },
            "cell_type": "markdown",
            "source": "# Data Science Tools and Ecosystem"
        },
        {
            "metadata": {},
            "cell_type": "markdown",
            "source": "*In this notebook, Data Science Tools and Ecosystem are summarized.*"
        },
        {
            "metadata": {},
            "cell_type": "markdown",
            "source": "### Data Science Languages\nSome of the popular languages that Data Scientists use are:"
        },
        {
            "metadata": {},
            "cell_type": "markdown",
            "source": "<ol>\n  <li>Python</li>\n  <li>R</li>\n  <li>SQL</li>\n  <li>Scala</li>\n  <li>Java</li>\n  <li>C++</li>\n  <li>Julia</li>\n  <li>JS</li>\n  <li>PHP</li>\n  <li>Golang</li>\n  <li>Ruby</li>\n  <li>Visual Basic</li>\n</ol>"
        },
        {
            "metadata": {},
            "cell_type": "markdown",
            "source": "### Data Science Libraries\nSome of the commonly used libraries used by Data Scientists include:"
        },
        {
            "metadata": {},
            "cell_type": "markdown",
            "source": "<ol>\n  <li>Pandas</li>\n  <li>Numpy</li>\n  <li>Matplotlib</li>\n  <li>Seaborn</li>\n  <li>Scikit-Learn</li>\n  <li>Keras</li>\n  <li>Tensorflow</li>\n  <li>Pytorch</li>\n  <li>Apache Spark</li>\n  <li>Vegas</li>\n  <li>Big DL</li>\n  <li>GGplot2</li>\n</ol>"
        },
        {
            "metadata": {},
            "cell_type": "markdown",
            "source": "### Data Science Tools\nSome of the commonly used tools by Data Scientists include:"
        },
        {
            "metadata": {},
            "cell_type": "markdown",
            "source": "<table align=\"left\">\n  <tr>\n    <th>Data Management</th>\n    <th>Data Integration and Transformation</th>\n    <th>Data Visualization</th>\n    <th>Model Deployment</th>\n    <th>Model Monitoring and Assessment</th> \n    <th>Code Asset Management</th>\n    <th>Data Asset Management</th>\n    <th>Development Environments</th>\n    <th>Execution Environments</th>\n    <th>Fully Integrated Visual Tools</th>\n  </tr>\n  <tr>\n    <td>MySQL</td>\n    <td>Apache AirFlow</td>\n    <td>Hue</td>\n    <td>Apache PredictionIO</td>\n    <td>ModelIDB</td>\n    <td>Git</td>\n    <td>Apache Atlas</td>\n    <td>Jupyter</td>\n    <td>Apache Spark</td>\n    <td>KNIME</td>\n  </tr>\n  <tr>\n    <td>PostgreSQL</td>\n    <td>KubeFlow</td>\n    <td>Kibana</td>\n    <td>Seldon</td>\n    <td>Prometheus</td>\n    <td>GitHub</td>\n    <td>ODPi Egeria</td>\n    <td>JupyterLab</td>\n    <td>Apache Flink</td>\n    <td>Orange</td>\n  </tr>\n  <tr>\n    <td>MongoDB</td>\n    <td>Apache Kafka</td>\n    <td>Apache Superset</td>\n    <td>MLeap</td>\n    <td>IBM AI Fairness 360</td>\n    <td>GitLab</td>\n    <td>Kylo</td>\n    <td>Apache Zeppelin</td>\n    <td>Ray</td>\n    <td></td>\n  </tr>\n  <tr>\n    <td>Apache CouchDB</td>\n    <td>Apache Nifi</td>\n    <td></td>\n    <td>TensorFlow Service</td>\n    <td>IBM Adversarial Robustness 360 Toolbox</td>\n    <td>Bitbucket</td>\n    <td></td>\n    <td>RStudio</td>\n    <td></td>\n    <td></td>\n  </tr>\n  <tr>\n    <td>Apache Cassandra</td>\n    <td>Apache Spark SQL</td>\n    <td></td>\n    <td>TensorFlow Lite</td>\n    <td>IBM AI Explainability 360</td>\n    <td></td>\n    <td></td>\n    <td>Spyder</td>\n    <td></td>\n    <td></td>\n  </tr>\n    <td>Hadoop File System</td>\n    <td>NodeRed</td>\n    <td></td>\n    <td>TensorFlow JS</td>\n    <td></td>\n    <td></td>\n    <td></td>\n    <td></td>\n    <td></td>\n    <td></td>\n  <tr>\n    <td>Ceph</td>\n    <td></td>\n    <td></td>\n    <td></td>\n    <td></td>\n    <td></td>\n    <td></td>\n    <td></td>\n    <td></td>\n    <td></td>\n  </tr>\n  <tr>\n    <td>Elasticsearch</td>\n    <td></td>\n    <td></td>\n    <td></td>\n    <td></td>\n    <td></td>\n    <td></td>\n    <td></td>\n    <td></td>\n    <td></td>\n  </tr>\n</table>"
        },
        {
            "metadata": {},
            "cell_type": "markdown",
            "source": "### Arithmetic Expression Examples\nBelow are a few examples of evaluating arithmetic expressions in Python : "
        },
        {
            "metadata": {
                "scrolled": true
            },
            "cell_type": "code",
            "source": "# Addition\nprint('Addition', 1, '+',1, ':', 1+1)\n\n# Subtraction\nprint('Subtraction', 10, '-', 5, ':', 10-5)\n\n# Multiplication\nprint('Multiplication', 10, '*', 5, ':', 10*5)\n\n# Division\nprint('Division', 40, '/', 5, ':', 40/5)\n\n# Quotient\nprint('Quotient', 9, '//', 2, ':', 9//2)\n\n# Remainder\nprint('Remainder', 9, '%', 2, ':', 9%2)\n\n# Exponent\nprint('Exponent', 2, '**', 3, ':', 2**3)",
            "execution_count": 30,
            "outputs": [
                {
                    "output_type": "stream",
                    "text": "Addition 1 + 1 : 2\nSubtraction 10 - 5 : 5\nMultiplication 10 * 5 : 50\nDivision 40 / 5 : 8.0\nQuotient 9 // 2 : 4\nRemainder 9 % 2 : 1\nExponent 2 ** 3 : 8\n",
                    "name": "stdout"
                }
            ]
        },
        {
            "metadata": {},
            "cell_type": "markdown",
            "source": "### Multiply and Add Numbers"
        },
        {
            "metadata": {},
            "cell_type": "code",
            "source": "# This a simple arithmetic expression to mutiply then add integers\nprint((12*12) + 6)",
            "execution_count": 34,
            "outputs": [
                {
                    "output_type": "stream",
                    "text": "150\n",
                    "name": "stdout"
                }
            ]
        },
        {
            "metadata": {},
            "cell_type": "markdown",
            "source": "### Convert minutes to hours"
        },
        {
            "metadata": {},
            "cell_type": "code",
            "source": "# This will convert 200 minutes to hours by diving by 60\ndef mintohou(x):\n    print(x, 'minutes =', round(x/60,2), 'Hours')\n\nmintohou(200)",
            "execution_count": 38,
            "outputs": [
                {
                    "output_type": "stream",
                    "text": "200 minutes = 3.33 Hours\n",
                    "name": "stdout"
                }
            ]
        },
        {
            "metadata": {},
            "cell_type": "markdown",
            "source": "### Objectives"
        },
        {
            "metadata": {},
            "cell_type": "markdown",
            "source": "<ul>\n  <li>Notebook</li>\n  <li>Markdown</li>\n  <li>Arithmetic Expression</li>\n  <li>Data Science Tools</li>\n  <li>List popular languages for Data Science</li>\n</ul>"
        },
        {
            "metadata": {},
            "cell_type": "markdown",
            "source": "## Author\u2019s name"
        },
        {
            "metadata": {},
            "cell_type": "markdown",
            "source": "*Muhammad Fadhil*"
        }
    ],
    "metadata": {
        "kernelspec": {
            "name": "python3",
            "display_name": "Python 3.10",
            "language": "python"
        },
        "language_info": {
            "name": "python",
            "version": "3.10.6",
            "mimetype": "text/x-python",
            "codemirror_mode": {
                "name": "ipython",
                "version": 3
            },
            "pygments_lexer": "ipython3",
            "nbconvert_exporter": "python",
            "file_extension": ".py"
        }
    },
    "nbformat": 4,
    "nbformat_minor": 1
}